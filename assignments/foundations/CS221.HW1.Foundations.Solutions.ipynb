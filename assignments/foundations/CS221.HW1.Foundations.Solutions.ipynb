{
 "cells": [
  {
   "cell_type": "markdown",
   "metadata": {},
   "source": [
    "# CS221 Homework1 - Foundations"
   ]
  },
  {
   "cell_type": "markdown",
   "metadata": {},
   "source": [
    "### Problem 1: Optimization and probability\n",
    "\n",
    "In this class, we will cast a lot of AI problems as optimization problems, that is, finding the best\n",
    "solution in a rigorous mathematical sense.\n",
    "<br>At the same time, we must be adroit at coping with uncertainty in the world,\n",
    "and for that, we appeal to tools from probability."
   ]
  },
  {
   "cell_type": "markdown",
   "metadata": {},
   "source": [
    "> a. Let $x_1, \\dots, x_n$ be real numbers representing positions on a number line.\n",
    "Let $w_1, \\dots, w_n$ be positive real numbers representing the importance of each of these positions.\n",
    "Consider the quadratic function: $f(\\theta) = \\frac{1}{2} \\sum_{i=1}^n w_i (\\theta - x_i)^2$.\n",
    "* What value of $\\theta$ minimizes $f(\\theta)$? \n",
    "* What problematic issues could arise if some of the $w_i$'s are negative?\n",
    "<br>Note: You can think about this problem as trying to find the point $\\theta$ that's not too far\n",
    "away from the $x_i$'s. Over time, hopefully you'll appreciate how nice quadratic functions are to minimize."
   ]
  },
  {
   "cell_type": "code",
   "execution_count": null,
   "metadata": {},
   "outputs": [],
   "source": []
  },
  {
   "cell_type": "markdown",
   "metadata": {},
   "source": [
    "> b. In this class, there will be a lot of sums and maxes.\n",
    "Let's see what happens if we switch the order.\n",
    "Let $f(\\mathbf x) = \\sum_{i=1}^d \\max_{s \\in \\{1,-1\\}} s x_i$\n",
    "and $g(\\mathbf x) = \\max_{s \\in \\{1,-1\\}} \\sum_{i=1}^d s x_i$,\n",
    "where $\\mathbf x = (x_1, \\dots, x_d) \\in \\mathbb{R}^d$ is a real vector.\n",
    "* Does $f(\\mathbf x) \\le g(\\mathbf x)$, $f(\\mathbf x) = g(\\mathbf x)$, or $f(\\mathbf x) \\ge g(\\mathbf x)$ hold for all $\\mathbf x$? Prove it.\n",
    "<br/>Hint: You may find it helpful to refactor the expressions so that they\n",
    "are maximizing the same quantity over different sized sets."
   ]
  },
  {
   "cell_type": "code",
   "execution_count": null,
   "metadata": {},
   "outputs": [],
   "source": []
  },
  {
   "cell_type": "markdown",
   "metadata": {},
   "source": [
    "> c. Suppose you repeatedly roll a fair six-sided die until you roll a $1$ (and then you stop).\n",
    "Every time you roll a $2$, you lose $a$ points, and every time you roll a 6, you win $b$ points. You do not win or lose any points if you roll a 3, 4, or a 5.\n",
    "* What is the expected number of points (as a function of $a$ and $b$) you will have when you stop?\n",
    "<br>Hint: it is recommended to think of defining a recurrence."
   ]
  },
  {
   "cell_type": "code",
   "execution_count": null,
   "metadata": {},
   "outputs": [],
   "source": []
  },
  {
   "cell_type": "markdown",
   "metadata": {},
   "source": [
    "> d. Suppose the probability of a coin turning up heads is $0 \\lt p \\lt 1$,\n",
    "and that we flip it 7 times and get $\\{ \\text{H}, \\text{H}, \\text{T}, \\text{H}, \\text{T} , \\text{T}, \\text{H}  \\}$.\n",
    "We know the probability (likelihood) of obtaining this\n",
    "sequence is $L(p) = p p (1-p) p (1-p) (1-p) p = p^4(1-p)^3$.\n",
    "* What value of $p$ maximizes $L(p)$?\n",
    "* What is an intuitive interpretation of this value of $p$?\n",
    "<br/>Hint: Consider taking the derivative of $\\log L(p)$. You can also directly take the derivative of $L(p)$, but it is cleaner and more natural to differentiate $\\log L(p)$. You can verify for yourself\n",
    "that the value of $p$ which maximizes $\\log L(p)$ must also maximize $L(p)$ (you are not required to prove this in your solution)."
   ]
  },
  {
   "cell_type": "code",
   "execution_count": null,
   "metadata": {},
   "outputs": [],
   "source": []
  },
  {
   "cell_type": "markdown",
   "metadata": {},
   "source": [
    "> e. Let's practice taking gradients,\n",
    "which is a key operation for being able to optimize continuous functions.\n",
    "For $\\mathbf w \\in \\mathbb R^d$ (represented as a column vector) and constants $\\mathbf a_i, \\mathbf b_j \\in \\mathbb R^d$ (also represented as column vectors) and $\\lambda \\in \\mathbb R$, define\n",
    "the scalar-valued function\n",
    "$$f(\\mathbf w) = \\sum_{i=1}^n \\sum_{j=1}^n (\\mathbf a_i^\\top \\mathbf w - \\mathbf b_j^\\top \\mathbf w)^2 + \\lambda \\|\\mathbf w\\|_2^2,$$\n",
    "where the vector is $\\mathbf w = (w_1, \\dots, w_d)^\\top$ and $\\|\\mathbf w\\|_2 = \\sqrt{\\sum_{k=1}^d w_k^2}$ is known as the $L_2$ norm.\n",
    "* Compute the gradient $\\nabla f(\\mathbf w)$.\n",
    "<br/>Recall: the gradient is a $d$-dimensional vector of the partial derivatives with respect to each $w_i$:\n",
    "$$\\nabla f(\\mathbf w) = \\left(\\frac{\\partial f(\\mathbf w)}{\\partial w_1}, \\dots \\frac{\\partial f(\\mathbf w)}{\\partial w_d}\\right)^\\top.$$\n",
    "If you're not comfortable with vector calculus, first warm up by working out this problem using scalars in\n",
    "place of vectors and derivatives in place of gradients.\n",
    "Not everything for scalars goes through for vectors, but the two should at least be consistent with each other (when $d=1$).\n",
    "Do not write out summation over dimensions, because that gets tedious.\n",
    "\n"
   ]
  },
  {
   "cell_type": "code",
   "execution_count": null,
   "metadata": {},
   "outputs": [],
   "source": []
  },
  {
   "cell_type": "markdown",
   "metadata": {},
   "source": [
    "### Problem 2: Complexity\n",
    "\n",
    "When designing algorithms, it's useful to be able to do quick back of the envelope calculations to see how much time or space an algorithm needs.\n",
    "<br>Hopefully, you'll start to get more intuition for this by being exposed to different types of problems."
   ]
  },
  {
   "cell_type": "markdown",
   "metadata": {},
   "source": [
    "> a. Suppose we have an image of a human face consisting of $n \\times n$ pixels.\n",
    "In our simplified setting, a face consists of two eyes, two ears, one nose, and one mouth,\n",
    "each represented as an arbitrary axis-aligned rectangle (i.e. the axes of the\n",
    "rectangle are aligned with the axes of the image).  As we'd like\n",
    "to handle Picasso portraits too, there are no constraints on the location or\n",
    "size of the rectangles.\n",
    "* How many possible faces (choice of its component rectangles) are there?\n",
    "In general, we only care about asymptotic complexity,\n",
    "so give your answer in the form of $O(n^c)$ or $O(c^n)$ for some integer $c$."
   ]
  },
  {
   "cell_type": "code",
   "execution_count": null,
   "metadata": {},
   "outputs": [],
   "source": []
  },
  {
   "cell_type": "markdown",
   "metadata": {},
   "source": [
    "> b. Suppose we have an $n\\times n$ grid.\n",
    "We start in the upper-left corner (position $(1,1)$), and we would like to reach the lower-right corner (position $(n,n)$) by taking single steps down and right.\n",
    "Define a function $c(i, j)$ to be the cost of touching position $(i, j)$, and assume it takes constant time to compute.\n",
    "Note that $c(i, j)$ can be negative.\n",
    "* Give an algorithm for computing the minimum cost in the most efficient way.\n",
    "What is the runtime (just give the big-O)?"
   ]
  },
  {
   "cell_type": "code",
   "execution_count": null,
   "metadata": {},
   "outputs": [],
   "source": []
  },
  {
   "cell_type": "markdown",
   "metadata": {},
   "source": [
    "> c. Suppose we have a staircase with $n$ steps (we start on the ground, so we need $n$ total steps to reach the top).\n",
    "We can take as many steps forward at a time, but we will never step backwards.\n",
    "* How many ways are there to reach the top?\n",
    "Give your answer as a function of $n$.\n",
    "<br>For example: if $n = 3$, then the answer is $4$.\n",
    "The four options are the following:\n",
    "(1) take one step, take one step, take one step\n",
    "(2) take two steps, take one step\n",
    "(3) take one step, take two steps\n",
    "(4) take three steps."
   ]
  },
  {
   "cell_type": "code",
   "execution_count": null,
   "metadata": {},
   "outputs": [],
   "source": []
  },
  {
   "cell_type": "markdown",
   "metadata": {},
   "source": [
    "> d. Consider the scalar-valued function $f(\\mathbf w)$ from Problem 1e.\n",
    "* Devise a strategy that first does preprocessing in $O(n d^2)$ time,\n",
    "and then for any given vector $\\mathbf w$,\n",
    "takes $O(d^2)$ time instead to compute $f(\\mathbf w)$.\n",
    "<br/>Hint: Refactor the algebraic expression; this is a classic trick used in machine learning.\n",
    "Again, you may find it helpful to work out the scalar case first."
   ]
  },
  {
   "cell_type": "code",
   "execution_count": null,
   "metadata": {},
   "outputs": [],
   "source": []
  },
  {
   "cell_type": "markdown",
   "metadata": {},
   "source": [
    "### Problem 3: Programming\n",
    "\n",
    "In this problem, you will implement a bunch of short functions. The main purpose of this exercise is to familiarize yourself with Python, but as a bonus, the functions that you will implement will come in handy in subsequent homeworks.\n",
    "<br> If you're new to Python, the following provide pointers to various tutorials and examples for the language:\n",
    "<ul>\n",
    "  <li><a href=\"http://wiki.python.org/moin/BeginnersGuide/Programmers\">Python for Programmers</a></li>\n",
    "  <li><a href=\"http://wiki.python.org/moin/SimplePrograms\">Example programs of increasing complexity</a></li>\n",
    "</ul>"
   ]
  },
  {
   "cell_type": "markdown",
   "metadata": {},
   "source": [
    "> a. Implement <code>findAlphabeticallyLastWord</code> in <code>submission.py</code>.\n",
    "  \n",
    "> b. Implement <code>euclideanDistance</code> in <code>submission.py</code>.\n",
    "  \n",
    "> c. Implement <code>mutateSentences</code> in <code>submission.py</code>.\n",
    "  \n",
    "> d. Implement <code>sparseVectorDotProduct</code> in <code>submission.py</code>.\n",
    "  \n",
    "> e. Implement <code>incrementSparseVector</code> in <code>submission.py</code>.\n",
    "  \n",
    "> f. Implement <code>findSingletonWords</code> in <code>submission.py</code>.\n",
    "  \n",
    "> g. Implement <code>computeLongestPalindromeLength</code> in <code>submission.py</code>."
   ]
  },
  {
   "cell_type": "markdown",
   "metadata": {},
   "source": [
    "### Problem 4: Societal Impact\n",
    "\n",
    "AI can no longer be viewed as a neutral technology, for its impact on society is increasing\n",
    "[<a href=\"https://ai100.stanford.edu/sites/g/files/sbiybj9861/f/ai100report10032016fnl_singles.pdf\">1</a>,\n",
    "<a href=\"https://www.technologyreview.com/s/612876/this-is-how-ai-bias-really-happensand-why-its-so-hard-to-fix/\">2</a>].\n",
    "<br>While most of this course is the technology,\n",
    "we would like you to pause for a moment to reflect on how\n",
    "this technology can influence people's lives."
   ]
  },
  {
   "cell_type": "markdown",
   "metadata": {},
   "source": [
    "> a. Describe one positive use of AI to improve society that you are most excited about.\n",
    "* What would be a concrete grand challenge or milestone in this area?"
   ]
  },
  {
   "cell_type": "code",
   "execution_count": null,
   "metadata": {},
   "outputs": [],
   "source": []
  },
  {
   "cell_type": "markdown",
   "metadata": {},
   "source": [
    "> b. Describe one negative use or risks of AI that you are most worried about.\n",
    "* How would you go about preventing this?"
   ]
  },
  {
   "cell_type": "code",
   "execution_count": null,
   "metadata": {},
   "outputs": [],
   "source": []
  },
  {
   "cell_type": "markdown",
   "metadata": {},
   "source": [
    "### Problem 5: Background Survey\n",
    "\n",
    "As a big class, CS221 has a wide range people coming from different backgrounds.\n",
    "<br>To get a better sense of who you are, we would like you to tell us what you\n",
    "know so far."
   ]
  },
  {
   "cell_type": "markdown",
   "metadata": {},
   "source": [
    "> a.   Which of the following courses have you taken?\n",
    "> <ul>\n",
    ">   <li>Basic programming (CS106 or equivalent)</li>\n",
    ">   <li>Systems programming (CS107 or equivalent)</li>\n",
    ">   <li>Probability (CS109 or equivalent)</li>\n",
    ">   <li>Math class that requires proofs (CS103, etc.)</li>\n",
    ">   <li>Algorithms (CS161 or equivalent)</li>\n",
    ">   <li>Linear algebra (MATH104 or equivalent)</li>\n",
    ">   <li>Machine learning (CS229 or equivalent)</li>\n",
    ">   <li>NLP, vision, or robotics</li>\n",
    "> </ul>"
   ]
  },
  {
   "cell_type": "code",
   "execution_count": null,
   "metadata": {},
   "outputs": [],
   "source": []
  },
  {
   "cell_type": "markdown",
   "metadata": {},
   "source": [
    "> b. For each of the following concepts, on a scale of 0-6, please rate your expertise.\n",
    "> <p>\n",
    "> Ratings:\n",
    "> <ul>\n",
    ">   <li>0: I never heard of it</li>\n",
    ">   <li>1: I don't know what it is</li>\n",
    ">   <li>2: I have a vague idea</li>\n",
    ">   <li>3: I have a basic understanding</li>\n",
    ">   <li>4: I would be comfortable teaching someone</li>\n",
    ">   <li>5: I have worked extensively with it in my research or work</li>\n",
    ">   <li>6: I invented it</li>\n",
    "> </ul>\n",
    "> <p>\n",
    "> Concepts:\n",
    "> <ul>\n",
    ">   <li>Anonymous functions (lambdas)</li>\n",
    ">   <li>Gradient of a vector-valued function</li>\n",
    ">   <li>Conditional independence</li>\n",
    ">   <li>Dynamic programming</li>\n",
    ">   <li>Logistic regression</li>\n",
    ">   <li>Cross validation</li>\n",
    ">   <li>Beam search</li>\n",
    ">   <li>Existential quantification</li>\n",
    ">   <li>Convexity</li>\n",
    "> </ul>"
   ]
  },
  {
   "cell_type": "code",
   "execution_count": null,
   "metadata": {},
   "outputs": [],
   "source": []
  }
 ],
 "metadata": {
  "kernelspec": {
   "display_name": "Python 3",
   "language": "python",
   "name": "python3"
  },
  "language_info": {
   "codemirror_mode": {
    "name": "ipython",
    "version": 3
   },
   "file_extension": ".py",
   "mimetype": "text/x-python",
   "name": "python",
   "nbconvert_exporter": "python",
   "pygments_lexer": "ipython3",
   "version": "3.8.3"
  }
 },
 "nbformat": 4,
 "nbformat_minor": 4
}
